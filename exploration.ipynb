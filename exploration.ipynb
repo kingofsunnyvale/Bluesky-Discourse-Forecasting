{
 "cells": [
  {
   "cell_type": "code",
   "execution_count": 13,
   "metadata": {},
   "outputs": [],
   "source": [
    "from datasets import load_dataset\n",
    "from datetime import datetime, timezone\n",
    "from dateutil import parser\n",
    "\n",
    "ds = load_dataset(\"alpindale/two-million-bluesky-posts\", split=\"train\")"
   ]
  },
  {
   "cell_type": "code",
   "execution_count": 19,
   "metadata": {},
   "outputs": [
    {
     "name": "stdout",
     "output_type": "stream",
     "text": [
      "First post:\n",
      " {'text': \"This is really interesting polling data about national public attitudes re: California.  It's from the LA Times, in January.  I wonder if this will change substantially in the next two years?  5233025.fs1.hubspotusercontent-na1.net/hubfs/523302...\", 'created_at': '2024-11-27T07:53:47.202Z', 'author': 'did:plc:5ug6fzthlj6yyvftj3alekpj', 'uri': 'at://did:plc:5ug6fzthlj6yyvftj3alekpj/app.bsky.feed.post/3lbw33zxvik24', 'has_images': False, 'reply_to': None}\n"
     ]
    }
   ],
   "source": [
    "print(\"First post:\\n\", ds[0])"
   ]
  },
  {
   "cell_type": "code",
   "execution_count": 20,
   "metadata": {},
   "outputs": [
    {
     "name": "stdout",
     "output_type": "stream",
     "text": [
      "\n",
      "Found 16866 posts in the hour 07:00–08:00 (no language predictions available).\n",
      "\n",
      "{'text': \"This is really interesting polling data about national public attitudes re: California.  It's from the LA Times, in January.  I wonder if this will change substantially in the next two years?  5233025.fs1.hubspotusercontent-na1.net/hubfs/523302...\", 'created_at': '2024-11-27T07:53:47.202Z', 'author': 'did:plc:5ug6fzthlj6yyvftj3alekpj', 'uri': 'at://did:plc:5ug6fzthlj6yyvftj3alekpj/app.bsky.feed.post/3lbw33zxvik24', 'has_images': False, 'reply_to': None}\n",
      "{'text': 'Niet been, iets.', 'created_at': '2024-11-27T07:53:46.656Z', 'author': 'did:plc:xfvxxrfblwuc3kdthl344vc5', 'uri': 'at://did:plc:xfvxxrfblwuc3kdthl344vc5/app.bsky.feed.post/3lbw33zh7cs2l', 'has_images': False, 'reply_to': 'at://did:plc:fwjmfthdu5wppad75pcgpalj/app.bsky.feed.post/3lbvzv3tuc226'}\n",
      "{'text': 'よく考えたらchrがsbさんの腰を両脚で挟んでどうこうとかポストしてたな\\nいまさらだった……', 'created_at': '2024-11-27T07:53:46.554Z', 'author': 'did:plc:33m5bavcbydbgxqv7lzukclo', 'uri': 'at://did:plc:33m5bavcbydbgxqv7lzukclo/app.bsky.feed.post/3lbw33ze3pc2x', 'has_images': False, 'reply_to': None}\n"
     ]
    }
   ],
   "source": [
    "start_time = datetime(2024, 11, 27, 7, 0, 0, tzinfo=timezone.utc)\n",
    "end_time   = datetime(2024, 11, 27, 8, 0, 0, tzinfo=timezone.utc)\n",
    "\n",
    "def in_target_hour(example):\n",
    "    # Replace trailing 'Z' with '+00:00'\n",
    "    aware_str = example[\"created_at\"].replace(\"Z\", \"+00:00\")\n",
    "    dt = parser.isoparse(aware_str)  # <-- dateutil's tolerant parser\n",
    "    return start_time <= dt < end_time\n",
    "\n",
    "subset_time = ds.filter(in_target_hour)\n",
    "# If you have predicted_language, filter to English:\n",
    "def is_english(example):\n",
    "    return example.get('predicted_language', '') == 'en'\n",
    "\n",
    "if 'predicted_language' in ds.column_names:\n",
    "    subset_en = subset_time.filter(is_english)\n",
    "    print(f\"\\nFound {len(subset_en)} English posts in the hour 07:00–08:00.\\n\")\n",
    "    for i in range(min(3, len(subset_en))):\n",
    "        print(subset_en[i])\n",
    "else:\n",
    "    print(f\"\\nFound {len(subset_time)} posts in the hour 07:00–08:00 (no language predictions available).\\n\")\n",
    "    for i in range(min(3, len(subset_time))):\n",
    "        print(subset_time[i])"
   ]
  }
 ],
 "metadata": {
  "kernelspec": {
   "display_name": "Python 3",
   "language": "python",
   "name": "python3"
  },
  "language_info": {
   "codemirror_mode": {
    "name": "ipython",
    "version": 3
   },
   "file_extension": ".py",
   "mimetype": "text/x-python",
   "name": "python",
   "nbconvert_exporter": "python",
   "pygments_lexer": "ipython3",
   "version": "3.9.6"
  }
 },
 "nbformat": 4,
 "nbformat_minor": 2
}
